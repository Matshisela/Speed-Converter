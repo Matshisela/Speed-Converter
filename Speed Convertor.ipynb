{
 "cells": [
  {
   "cell_type": "markdown",
   "metadata": {},
   "source": [
    "### Converting km/hr to m/hr and Vice versa"
   ]
  },
  {
   "cell_type": "code",
   "execution_count": 1,
   "metadata": {},
   "outputs": [],
   "source": [
    "def kmh_to_mph(x):\n",
    "    return round(x * 0.621371, 2) # return to the nearest 2 decimal places\n",
    "\n",
    "def mph_to_kmh(x):\n",
    "    return round(1/ 0.621371 * x, 2) # return to the nearest 2 decimal places"
   ]
  },
  {
   "cell_type": "code",
   "execution_count": 2,
   "metadata": {},
   "outputs": [
    {
     "name": "stdout",
     "output_type": "stream",
     "text": [
      "What is the speed in km/hr?:45\n",
      "The speed in miles/hr is 27.96\n"
     ]
    }
   ],
   "source": [
    "speed_km = float(input(\"What is the speed in km/hr?:\"))\n",
    "g = kmh_to_mph(speed_km)\n",
    "print(\"The speed in miles/hr is {}\".format(g))"
   ]
  },
  {
   "cell_type": "code",
   "execution_count": 3,
   "metadata": {},
   "outputs": [
    {
     "name": "stdout",
     "output_type": "stream",
     "text": [
      "What is the speed in miles/hr?:27.96\n",
      "The speed in km/hr is 45.0\n"
     ]
    }
   ],
   "source": [
    "speed_m = float(input(\"What is the speed in miles/hr?:\"))\n",
    "g = mph_to_kmh(speed_m)\n",
    "print(\"The speed in km/hr is {}\".format(g))"
   ]
  },
  {
   "cell_type": "markdown",
   "metadata": {},
   "source": [
    "### Converting km/hr to metres/sec and Vice versa"
   ]
  },
  {
   "cell_type": "code",
   "execution_count": 4,
   "metadata": {},
   "outputs": [],
   "source": [
    "def kmh_to_ms(x):\n",
    "    return round(1/ 3.6 * x, 2) # return to the nearest 2 decimal places\n",
    "\n",
    "def ms_to_kmh(x):\n",
    "    return round(3.6 * x, 2) # return to the nearest 2 decimal places"
   ]
  },
  {
   "cell_type": "code",
   "execution_count": 5,
   "metadata": {},
   "outputs": [
    {
     "name": "stdout",
     "output_type": "stream",
     "text": [
      "What is the speed in metres/s?:54\n",
      "The speed in km/hr is 194.4\n"
     ]
    }
   ],
   "source": [
    "speed_ms = float(input(\"What is the speed in metres/s?:\"))\n",
    "g = ms_to_kmh(speed_ms)\n",
    "print(\"The speed in km/hr is {}\".format(g))"
   ]
  },
  {
   "cell_type": "code",
   "execution_count": 6,
   "metadata": {},
   "outputs": [
    {
     "name": "stdout",
     "output_type": "stream",
     "text": [
      "What is the speed in km/hr?:194.4\n",
      "The speed in metres/sec is 54.0\n"
     ]
    }
   ],
   "source": [
    "speed_kmh = float(input(\"What is the speed in km/hr?:\"))\n",
    "g = kmh_to_ms(speed_kmh)\n",
    "print(\"The speed in metres/sec is {}\".format(g))"
   ]
  }
 ],
 "metadata": {
  "kernelspec": {
   "display_name": "Python 3",
   "language": "python",
   "name": "python3"
  },
  "language_info": {
   "codemirror_mode": {
    "name": "ipython",
    "version": 3
   },
   "file_extension": ".py",
   "mimetype": "text/x-python",
   "name": "python",
   "nbconvert_exporter": "python",
   "pygments_lexer": "ipython3",
   "version": "3.8.5"
  }
 },
 "nbformat": 4,
 "nbformat_minor": 4
}
